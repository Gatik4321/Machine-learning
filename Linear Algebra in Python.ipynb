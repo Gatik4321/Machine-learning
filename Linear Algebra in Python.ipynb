{
 "cells": [
  {
   "cell_type": "code",
   "execution_count": 3,
   "id": "b2652948",
   "metadata": {},
   "outputs": [
    {
     "name": "stdout",
     "output_type": "stream",
     "text": [
      "[[4]\n",
      " [5]\n",
      " [6]]\n",
      "[4 5 6]\n",
      "(3, 1)\n"
     ]
    }
   ],
   "source": [
    "# Now we going to understand the scalar and vector in \n",
    "import numpy as np\n",
    "x=5\n",
    "y=np.array([4,5,6])\n",
    "# Now how to create a column vector\n",
    "z=np.array([[4],[5],[6]])\n",
    "print(z)\n",
    "print(y)\n",
    "print(z.shape)"
   ]
  },
  {
   "cell_type": "code",
   "execution_count": 7,
   "id": "304331e0",
   "metadata": {},
   "outputs": [
    {
     "name": "stdout",
     "output_type": "stream",
     "text": [
      "(3, 4)\n",
      "[[ 4]\n",
      " [ 5]\n",
      " [ 7]\n",
      " [10]\n",
      " [10]\n",
      " [11]\n",
      " [13]\n",
      " [11]\n",
      " [56]\n",
      " [80]\n",
      " [80]\n",
      " [12]]\n",
      "(3, 4)\n"
     ]
    }
   ],
   "source": [
    "x=np.array([[4,5,7,10],\n",
    "          [10,11,13,11],\n",
    "          [56,80,80,12]])\n",
    "print(x.shape)\n",
    "# if we pass -1 in reshape function then it will take value automaticlly\n",
    "print(x.reshape(-1,1))\n",
    "print(x.shape)"
   ]
  },
  {
   "cell_type": "code",
   "execution_count": 90,
   "id": "e3b2957c",
   "metadata": {},
   "outputs": [
    {
     "name": "stdout",
     "output_type": "stream",
     "text": [
      "[[[  0   0   0]\n",
      "  [255 255 255]\n",
      "  [  0   0   0]\n",
      "  [  0   0   0]]\n",
      "\n",
      " [[  0   0   0]\n",
      "  [255 255 255]\n",
      "  [  0   0   0]\n",
      "  [  0   0   0]]\n",
      "\n",
      " [[  0   0   0]\n",
      "  [255 255 255]\n",
      "  [  0   0   0]\n",
      "  [  0   0   0]]\n",
      "\n",
      " [[  0   0   0]\n",
      "  [255 255 255]\n",
      "  [  0   0   0]\n",
      "  [  0   0   0]]]\n"
     ]
    },
    {
     "data": {
      "image/png": "[encoded data removed]",
      "text/plain": [
       "<Figure size 640x480 with 1 Axes>"
      ]
     },
     "metadata": {},
     "output_type": "display_data"
    }
   ],
   "source": [
    "# Now learning how to create a tensor\n",
    "import numpy as np\n",
    "T=np.zeros((4,4,3),dtype='int32')\n",
    "T[:,1,:]=255\n",
    "print(T)\n",
    "# matplot library is used for the data visuallisation\n",
    "import matplotlib.pyplot as plt\n",
    "plt.imshow(T)\n",
    "plt.show()"
   ]
  },
  {
   "cell_type": "code",
   "execution_count": 1,
   "id": "ea232d76",
   "metadata": {},
   "outputs": [
    {
     "ename": "NameError",
     "evalue": "name 'np' is not defined",
     "output_type": "error",
     "traceback": [
      "\u001b[1;31m---------------------------------------------------------------------------\u001b[0m",
      "\u001b[1;31mNameError\u001b[0m                                 Traceback (most recent call last)",
      "Cell \u001b[1;32mIn[1], line 4\u001b[0m\n\u001b[0;32m      1\u001b[0m \u001b[38;5;66;03m# Transpose of the 2d matrix \u001b[39;00m\n\u001b[0;32m      2\u001b[0m \u001b[38;5;66;03m# for a 2d matric transpose can be obtained as follows\u001b[39;00m\n\u001b[0;32m      3\u001b[0m \u001b[38;5;66;03m# in the case of a transpose row converted into columsn and columns in rowws\u001b[39;00m\n\u001b[1;32m----> 4\u001b[0m x\u001b[38;5;241m=\u001b[39mnp\u001b[38;5;241m.\u001b[39marray([[\u001b[38;5;241m4\u001b[39m,\u001b[38;5;241m5\u001b[39m,\u001b[38;5;241m7\u001b[39m,\u001b[38;5;241m10\u001b[39m],\n\u001b[0;32m      5\u001b[0m           [\u001b[38;5;241m10\u001b[39m,\u001b[38;5;241m11\u001b[39m,\u001b[38;5;241m13\u001b[39m,\u001b[38;5;241m11\u001b[39m],\n\u001b[0;32m      6\u001b[0m           [\u001b[38;5;241m56\u001b[39m,\u001b[38;5;241m80\u001b[39m,\u001b[38;5;241m80\u001b[39m,\u001b[38;5;241m12\u001b[39m]])\n\u001b[0;32m      7\u001b[0m \u001b[38;5;28mprint\u001b[39m(x\u001b[38;5;241m.\u001b[39mT)\n\u001b[0;32m      8\u001b[0m X\u001b[38;5;241m=\u001b[39mx\u001b[38;5;241m.\u001b[39mT\n",
      "\u001b[1;31mNameError\u001b[0m: name 'np' is not defined"
     ]
    }
   ],
   "source": [
    "# Transpose of the 2d matrix \n",
    "# for a 2d matric transpose can be obtained as follows\n",
    "# in the case of a transpose row converted into columsn and columns in rowws\n",
    "x=np.array([[4,5,7,10],\n",
    "          [10,11,13,11],\n",
    "          [56,80,80,12]])\n",
    "print(x.T)\n",
    "X=x.T\n",
    "print(X)\n",
    "# simply T is used to transpose"
   ]
  },
  {
   "cell_type": "code",
   "execution_count": 25,
   "id": "48051c01",
   "metadata": {},
   "outputs": [
    {
     "name": "stdout",
     "output_type": "stream",
     "text": [
      "[[ 4]\n",
      " [ 5]\n",
      " [ 6]\n",
      " [ 7]\n",
      " [ 8]\n",
      " [ 9]\n",
      " [10]\n",
      " [11]\n",
      " [12]]\n",
      "[[ 4  5  6  7  8  9 10 11 12]]\n"
     ]
    }
   ],
   "source": [
    "import numpy as np\n",
    "X=np.array([[4],[5],[6],[7],[8],[9],[10],[11],[12]])\n",
    "print(X)\n",
    "print(X.T)"
   ]
  },
  {
   "cell_type": "code",
   "execution_count": 91,
   "id": "0ae3e9f5",
   "metadata": {},
   "outputs": [
    {
     "name": "stdout",
     "output_type": "stream",
     "text": [
      "[0 0 0]\n",
      "(4, 4, 3)\n",
      "(3, 4, 4)\n",
      "[0 0 0 0]\n"
     ]
    }
   ],
   "source": [
    "# Now study how to transpose of a tensor\n",
    "T.shape\n",
    "print(T[0][0])\n",
    "t1=np.transpose(T,axes=(2,1,0))\n",
    "print(T.shape)\n",
    "print(t1.shape)\n",
    "print(t1[0][0])"
   ]
  },
  {
   "cell_type": "code",
   "execution_count": 44,
   "id": "ca6201f7",
   "metadata": {},
   "outputs": [
    {
     "name": "stdout",
     "output_type": "stream",
     "text": [
      "[[[  1 255   1]\n",
      "  [  1 255   1]\n",
      "  [  1 255   1]\n",
      "  [  1 255   1]]\n",
      "\n",
      " [[  1 255   1]\n",
      "  [  1 255   1]\n",
      "  [  1 255   1]\n",
      "  [  1 255   1]]\n",
      "\n",
      " [[  1 255   1]\n",
      "  [  1 255   1]\n",
      "  [  1 255   1]\n",
      "  [  1 255   1]]\n",
      "\n",
      " [[  1 255   1]\n",
      "  [  1 255   1]\n",
      "  [  1 255   1]\n",
      "  [  1 255   1]]]\n"
     ]
    },
    {
     "data": {
      "image/png": "[encoded data removed]",
      "text/plain": [
       "<Figure size 640x480 with 1 Axes>"
      ]
     },
     "metadata": {},
     "output_type": "display_data"
    }
   ],
   "source": [
    "import numpy as np\n",
    "T=np.ones((4,4,3),dtype='uint8')\n",
    "T[:,:,1]=255\n",
    "print(T)\n",
    "\n",
    "import matplotlib.pyplot as plt\n",
    "plt.imshow(T)\n",
    "plt.show()"
   ]
  },
  {
   "cell_type": "code",
   "execution_count": 50,
   "id": "949492c3",
   "metadata": {},
   "outputs": [
    {
     "name": "stdout",
     "output_type": "stream",
     "text": [
      "(4, 4, 3)\n",
      "[[[  1   1   1   1]\n",
      "  [  1   1   1   1]\n",
      "  [  1   1   1   1]\n",
      "  [  1   1   1   1]]\n",
      "\n",
      " [[255 255 255 255]\n",
      "  [255 255 255 255]\n",
      "  [255 255 255 255]\n",
      "  [255 255 255 255]]\n",
      "\n",
      " [[  1   1   1   1]\n",
      "  [  1   1   1   1]\n",
      "  [  1   1   1   1]\n",
      "  [  1   1   1   1]]]\n",
      "(3, 4, 4)\n",
      "(3,)\n"
     ]
    }
   ],
   "source": [
    "print(T.shape)\n",
    "print(T.T)\n",
    "T1=np.transpose(T)\n",
    "print(T1.shape)\n",
    "print(T[0][0].shape)"
   ]
  },
  {
   "cell_type": "code",
   "execution_count": 57,
   "id": "09cf50b2",
   "metadata": {},
   "outputs": [
    {
     "name": "stdout",
     "output_type": "stream",
     "text": [
      "[6 7 8 9]\n",
      "[10 11 12 13]\n"
     ]
    }
   ],
   "source": [
    "# Now we study about the concept of broadcasting\n",
    "# we can add scalar to a vector and numpy will add to each element in the vector\n",
    "import numpy as np\n",
    "x=np.array([1,2,3,4])+5\n",
    "print(x)\n",
    "print(x+4)\n",
    "# Broad Casting is only supported with array but not with lists"
   ]
  },
  {
   "cell_type": "code",
   "execution_count": 61,
   "id": "920d9eac",
   "metadata": {},
   "outputs": [
    {
     "name": "stdout",
     "output_type": "stream",
     "text": [
      "[[10 20 30 40]\n",
      " [40 50 60 70]]\n",
      "[[11 22 33 44]\n",
      " [41 52 63 74]]\n"
     ]
    }
   ],
   "source": [
    "x=np.array([1,2,3,4])\n",
    "X=np.array([[10,20,30,40],\n",
    "          [40,50,60,70]])\n",
    "print(X)\n",
    "print(X+x)"
   ]
  },
  {
   "cell_type": "code",
   "execution_count": 63,
   "id": "864eb839",
   "metadata": {},
   "outputs": [
    {
     "name": "stdout",
     "output_type": "stream",
     "text": [
      "[[0 4]\n",
      " [9 8]]\n",
      "[[ 6  6]\n",
      " [12 14]]\n"
     ]
    }
   ],
   "source": [
    "A=np.array([[1,2],[3,4]])\n",
    "B=np.array([[0,2],[3,2]])\n",
    "print(A*B)\n",
    "print(A.dot(B))"
   ]
  },
  {
   "cell_type": "code",
   "execution_count": 73,
   "id": "b188c903",
   "metadata": {},
   "outputs": [],
   "source": [
    "import numpy as np"
   ]
  },
  {
   "cell_type": "code",
   "execution_count": 81,
   "id": "51258b6f",
   "metadata": {},
   "outputs": [
    {
     "name": "stdout",
     "output_type": "stream",
     "text": [
      "5.0\n",
      "7.0\n",
      "4.0\n"
     ]
    }
   ],
   "source": [
    "# now we learn how to calculate the norm for a vector\n",
    "x=np.array([-3,4])\n",
    "lp2=np.linalg.norm(x,ord=2)\n",
    "print(lp2)\n",
    "\n",
    "# we have to provide the order if we have to calculate the lp1 norm\n",
    "lp1=np.linalg.norm(x,ord=1)\n",
    "print(lp1)\n",
    "\n",
    "# this is how we calculate the infinity norm\n",
    "lpinf=np.linalg.norm(x,ord=np.inf)\n",
    "print(lpinf)"
   ]
  },
  {
   "cell_type": "code",
   "execution_count": 78,
   "id": "69821788",
   "metadata": {},
   "outputs": [
    {
     "data": {
      "text/plain": [
       "-2.0000000000000004"
      ]
     },
     "execution_count": 78,
     "metadata": {},
     "output_type": "execute_result"
    }
   ],
   "source": [
    "# this is how we can calcuate the determinant\n",
    "x=np.array([[1,2],[3,4]])\n",
    "\n",
    "np.linalg.det(x)"
   ]
  },
  {
   "cell_type": "code",
   "execution_count": 84,
   "id": "9672503b",
   "metadata": {},
   "outputs": [
    {
     "name": "stdout",
     "output_type": "stream",
     "text": [
      "[[1.00000000e+00 1.11022302e-16]\n",
      " [0.00000000e+00 1.00000000e+00]]\n"
     ]
    }
   ],
   "source": [
    "# this is how we can calulate the inverse of the matrix\n",
    "# formula A*Ainv=A\n",
    "\n",
    "A=np.array([[1,2],[3,4]])\n",
    "np.linalg.inv(A)\n",
    "Ainv=np.linalg.inv(A)\n",
    "print(np.dot(A,Ainv))"
   ]
  },
  {
   "cell_type": "code",
   "execution_count": 88,
   "id": "9fd01d6d",
   "metadata": {},
   "outputs": [
    {
     "name": "stdout",
     "output_type": "stream",
     "text": [
      "[[0.125 0.125]\n",
      " [0.125 0.125]]\n"
     ]
    }
   ],
   "source": [
    "# if the martrix is invertible means that the inverse of the matri not exiata then we calcualte the pseudo inverse\n",
    "A=np.array([[2,2],[2,2]])\n",
    "pinv=np.linalg.pinv(A)\n",
    "print(pinv)"
   ]
  },
  {
   "cell_type": "code",
   "execution_count": 89,
   "id": "c910a7ed",
   "metadata": {},
   "outputs": [
    {
     "data": {
      "text/plain": [
       "array([1., 2.])"
      ]
     },
     "execution_count": 89,
     "metadata": {},
     "output_type": "execute_result"
    }
   ],
   "source": [
    "# if we have to solve the system of the linear equation then we use solve function\n",
    "# 2x1+3x2=8\n",
    "# 3x1+1x2=5\n",
    "a=np.array([[2,3],[3,1]])\n",
    "b=np.array([8,5])\n",
    "np.linalg.solve(a,b)"
   ]
  },
  {
   "cell_type": "code",
   "execution_count": 93,
   "id": "e6082693",
   "metadata": {},
   "outputs": [
    {
     "name": "stdout",
     "output_type": "stream",
     "text": [
      "5.0\n",
      "7.0\n",
      "4.0\n"
     ]
    }
   ],
   "source": [
    "# Now we learn how to find the norm of a vector\n",
    "x=np.array([-3,4])\n",
    "lp2=np.linalg.norm(x,ord=2)\n",
    "print(lp2)\n",
    "\n",
    "# Now we calculate the norm 1\n",
    "lp1=np.linalg.norm(x,ord=1)\n",
    "print(lp1)\n",
    "\n",
    "# this is how we calculate infinity norm\n",
    "lp3=np.linalg.norm(x,ord=np.inf)\n",
    "print(lp3)"
   ]
  },
  {
   "cell_type": "code",
   "execution_count": 95,
   "id": "98eeb74a",
   "metadata": {},
   "outputs": [
    {
     "name": "stdout",
     "output_type": "stream",
     "text": [
      "[[0.125 0.125]\n",
      " [0.125 0.125]]\n"
     ]
    }
   ],
   "source": [
    "#Now we have to calculate the norm\n",
    "A=np.array([[2,2],[2,2]])\n",
    "pinv=np.linalg.pinv(A)\n",
    "print(pinv)"
   ]
  },
  {
   "cell_type": "code",
   "execution_count": 96,
   "id": "861ff536",
   "metadata": {},
   "outputs": [
    {
     "data": {
      "text/plain": [
       "array([1., 2.])"
      ]
     },
     "execution_count": 96,
     "metadata": {},
     "output_type": "execute_result"
    }
   ],
   "source": [
    "# solve method is used to solve the system of linear equation inside the array\n",
    "a=np.array([[2,3],[3,1]])\n",
    "b=np.array([8,5])\n",
    "np.linalg.solve(a,b)"
   ]
  },
  {
   "cell_type": "code",
   "execution_count": null,
   "id": "4445802e",
   "metadata": {},
   "outputs": [],
   "source": []
  }
 ],
 "metadata": {
  "kernelspec": {
   "display_name": "Python 3 (ipykernel)",
   "language": "python",
   "name": "python3"
  },
  "language_info": {
   "codemirror_mode": {
    "name": "ipython",
    "version": 3
   },
   "file_extension": ".py",
   "mimetype": "text/x-python",
   "name": "python",
   "nbconvert_exporter": "python",
   "pygments_lexer": "ipython3",
   "version": "3.11.5"
  }
 },
 "nbformat": 4,
 "nbformat_minor": 5
}
