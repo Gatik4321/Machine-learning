{
 "cells": [
  {
   "cell_type": "code",
   "execution_count": 2,
   "id": "ea9ed08f",
   "metadata": {},
   "outputs": [],
   "source": [
    "import pandas as pd\n",
    "import matplotlib.pyplot as plt\n",
    "import seaborn as sns\n",
    "import numpy as np"
   ]
  },
  {
   "cell_type": "code",
   "execution_count": 4,
   "id": "7c758e48",
   "metadata": {},
   "outputs": [],
   "source": [
    "df=pd.read_csv(\"Train.csv\")"
   ]
  },
  {
   "cell_type": "code",
   "execution_count": 5,
   "id": "0de90f3a",
   "metadata": {},
   "outputs": [],
   "source": [
    "df1=pd.read_csv(\"Test.csv\")"
   ]
  },
  {
   "cell_type": "code",
   "execution_count": 6,
   "id": "e16fdf9d",
   "metadata": {},
   "outputs": [
    {
     "data": {
      "text/html": [
       "<div>\n",
       "<style scoped>\n",
       "    .dataframe tbody tr th:only-of-type {\n",
       "        vertical-align: middle;\n",
       "    }\n",
       "\n",
       "    .dataframe tbody tr th {\n",
       "        vertical-align: top;\n",
       "    }\n",
       "\n",
       "    .dataframe thead th {\n",
       "        text-align: right;\n",
       "    }\n",
       "</style>\n",
       "<table border=\"1\" class=\"dataframe\">\n",
       "  <thead>\n",
       "    <tr style=\"text-align: right;\">\n",
       "      <th></th>\n",
       "      <th>feature_1</th>\n",
       "      <th>feature_2</th>\n",
       "      <th>feature_3</th>\n",
       "      <th>feature_4</th>\n",
       "      <th>feature_5</th>\n",
       "      <th>target</th>\n",
       "    </tr>\n",
       "  </thead>\n",
       "  <tbody>\n",
       "    <tr>\n",
       "      <th>0</th>\n",
       "      <td>0.293416</td>\n",
       "      <td>-0.945599</td>\n",
       "      <td>-0.421105</td>\n",
       "      <td>0.406816</td>\n",
       "      <td>0.525662</td>\n",
       "      <td>-82.154667</td>\n",
       "    </tr>\n",
       "    <tr>\n",
       "      <th>1</th>\n",
       "      <td>-0.836084</td>\n",
       "      <td>-0.189228</td>\n",
       "      <td>-0.776403</td>\n",
       "      <td>-1.053831</td>\n",
       "      <td>0.597997</td>\n",
       "      <td>-48.897960</td>\n",
       "    </tr>\n",
       "    <tr>\n",
       "      <th>2</th>\n",
       "      <td>0.236425</td>\n",
       "      <td>0.132836</td>\n",
       "      <td>-0.147723</td>\n",
       "      <td>0.699854</td>\n",
       "      <td>-0.187364</td>\n",
       "      <td>77.270371</td>\n",
       "    </tr>\n",
       "    <tr>\n",
       "      <th>3</th>\n",
       "      <td>0.175312</td>\n",
       "      <td>0.143194</td>\n",
       "      <td>-0.581111</td>\n",
       "      <td>-0.122107</td>\n",
       "      <td>-1.292168</td>\n",
       "      <td>-2.988581</td>\n",
       "    </tr>\n",
       "    <tr>\n",
       "      <th>4</th>\n",
       "      <td>-1.693011</td>\n",
       "      <td>0.542712</td>\n",
       "      <td>-2.798729</td>\n",
       "      <td>-0.686723</td>\n",
       "      <td>1.244077</td>\n",
       "      <td>-37.596722</td>\n",
       "    </tr>\n",
       "  </tbody>\n",
       "</table>\n",
       "</div>"
      ],
      "text/plain": [
       "   feature_1  feature_2  feature_3  feature_4  feature_5     target\n",
       "0   0.293416  -0.945599  -0.421105   0.406816   0.525662 -82.154667\n",
       "1  -0.836084  -0.189228  -0.776403  -1.053831   0.597997 -48.897960\n",
       "2   0.236425   0.132836  -0.147723   0.699854  -0.187364  77.270371\n",
       "3   0.175312   0.143194  -0.581111  -0.122107  -1.292168  -2.988581\n",
       "4  -1.693011   0.542712  -2.798729  -0.686723   1.244077 -37.596722"
      ]
     },
     "execution_count": 6,
     "metadata": {},
     "output_type": "execute_result"
    }
   ],
   "source": [
    "df.head()"
   ]
  },
  {
   "cell_type": "code",
   "execution_count": 7,
   "id": "8c514400",
   "metadata": {},
   "outputs": [],
   "source": [
    "# we are already provided with the normalized data hennce we are directly applying multiple Linear Regression to it"
   ]
  },
  {
   "cell_type": "code",
   "execution_count": 8,
   "id": "aa931c9f",
   "metadata": {},
   "outputs": [],
   "source": [
    "Y=df.iloc[:,-1]\n",
    "X=df.iloc[:,:-1]"
   ]
  },
  {
   "cell_type": "code",
   "execution_count": 9,
   "id": "ee82db36",
   "metadata": {},
   "outputs": [
    {
     "data": {
      "text/plain": [
       "0       -82.154667\n",
       "1       -48.897960\n",
       "2        77.270371\n",
       "3        -2.988581\n",
       "4       -37.596722\n",
       "           ...    \n",
       "1595    -80.110012\n",
       "1596    118.315601\n",
       "1597   -107.510508\n",
       "1598    -47.341558\n",
       "1599   -115.939003\n",
       "Name: target, Length: 1600, dtype: float64"
      ]
     },
     "execution_count": 9,
     "metadata": {},
     "output_type": "execute_result"
    }
   ],
   "source": [
    "Y"
   ]
  },
  {
   "cell_type": "code",
   "execution_count": 10,
   "id": "a655af6b",
   "metadata": {},
   "outputs": [
    {
     "data": {
      "text/html": [
       "<div>\n",
       "<style scoped>\n",
       "    .dataframe tbody tr th:only-of-type {\n",
       "        vertical-align: middle;\n",
       "    }\n",
       "\n",
       "    .dataframe tbody tr th {\n",
       "        vertical-align: top;\n",
       "    }\n",
       "\n",
       "    .dataframe thead th {\n",
       "        text-align: right;\n",
       "    }\n",
       "</style>\n",
       "<table border=\"1\" class=\"dataframe\">\n",
       "  <thead>\n",
       "    <tr style=\"text-align: right;\">\n",
       "      <th></th>\n",
       "      <th>feature_1</th>\n",
       "      <th>feature_2</th>\n",
       "      <th>feature_3</th>\n",
       "      <th>feature_4</th>\n",
       "      <th>feature_5</th>\n",
       "    </tr>\n",
       "  </thead>\n",
       "  <tbody>\n",
       "    <tr>\n",
       "      <th>0</th>\n",
       "      <td>0.293416</td>\n",
       "      <td>-0.945599</td>\n",
       "      <td>-0.421105</td>\n",
       "      <td>0.406816</td>\n",
       "      <td>0.525662</td>\n",
       "    </tr>\n",
       "    <tr>\n",
       "      <th>1</th>\n",
       "      <td>-0.836084</td>\n",
       "      <td>-0.189228</td>\n",
       "      <td>-0.776403</td>\n",
       "      <td>-1.053831</td>\n",
       "      <td>0.597997</td>\n",
       "    </tr>\n",
       "    <tr>\n",
       "      <th>2</th>\n",
       "      <td>0.236425</td>\n",
       "      <td>0.132836</td>\n",
       "      <td>-0.147723</td>\n",
       "      <td>0.699854</td>\n",
       "      <td>-0.187364</td>\n",
       "    </tr>\n",
       "    <tr>\n",
       "      <th>3</th>\n",
       "      <td>0.175312</td>\n",
       "      <td>0.143194</td>\n",
       "      <td>-0.581111</td>\n",
       "      <td>-0.122107</td>\n",
       "      <td>-1.292168</td>\n",
       "    </tr>\n",
       "    <tr>\n",
       "      <th>4</th>\n",
       "      <td>-1.693011</td>\n",
       "      <td>0.542712</td>\n",
       "      <td>-2.798729</td>\n",
       "      <td>-0.686723</td>\n",
       "      <td>1.244077</td>\n",
       "    </tr>\n",
       "    <tr>\n",
       "      <th>...</th>\n",
       "      <td>...</td>\n",
       "      <td>...</td>\n",
       "      <td>...</td>\n",
       "      <td>...</td>\n",
       "      <td>...</td>\n",
       "    </tr>\n",
       "    <tr>\n",
       "      <th>1595</th>\n",
       "      <td>-0.274961</td>\n",
       "      <td>-0.820634</td>\n",
       "      <td>-0.757173</td>\n",
       "      <td>-0.147555</td>\n",
       "      <td>-0.307149</td>\n",
       "    </tr>\n",
       "    <tr>\n",
       "      <th>1596</th>\n",
       "      <td>-0.076099</td>\n",
       "      <td>0.255257</td>\n",
       "      <td>0.290054</td>\n",
       "      <td>1.796036</td>\n",
       "      <td>0.340350</td>\n",
       "    </tr>\n",
       "    <tr>\n",
       "      <th>1597</th>\n",
       "      <td>1.044177</td>\n",
       "      <td>-0.899206</td>\n",
       "      <td>1.730399</td>\n",
       "      <td>-1.871057</td>\n",
       "      <td>0.442520</td>\n",
       "    </tr>\n",
       "    <tr>\n",
       "      <th>1598</th>\n",
       "      <td>-1.269173</td>\n",
       "      <td>-0.005052</td>\n",
       "      <td>1.857669</td>\n",
       "      <td>-1.080365</td>\n",
       "      <td>0.736334</td>\n",
       "    </tr>\n",
       "    <tr>\n",
       "      <th>1599</th>\n",
       "      <td>-1.884000</td>\n",
       "      <td>-0.849427</td>\n",
       "      <td>-1.452270</td>\n",
       "      <td>0.488613</td>\n",
       "      <td>1.459576</td>\n",
       "    </tr>\n",
       "  </tbody>\n",
       "</table>\n",
       "<p>1600 rows × 5 columns</p>\n",
       "</div>"
      ],
      "text/plain": [
       "      feature_1  feature_2  feature_3  feature_4  feature_5\n",
       "0      0.293416  -0.945599  -0.421105   0.406816   0.525662\n",
       "1     -0.836084  -0.189228  -0.776403  -1.053831   0.597997\n",
       "2      0.236425   0.132836  -0.147723   0.699854  -0.187364\n",
       "3      0.175312   0.143194  -0.581111  -0.122107  -1.292168\n",
       "4     -1.693011   0.542712  -2.798729  -0.686723   1.244077\n",
       "...         ...        ...        ...        ...        ...\n",
       "1595  -0.274961  -0.820634  -0.757173  -0.147555  -0.307149\n",
       "1596  -0.076099   0.255257   0.290054   1.796036   0.340350\n",
       "1597   1.044177  -0.899206   1.730399  -1.871057   0.442520\n",
       "1598  -1.269173  -0.005052   1.857669  -1.080365   0.736334\n",
       "1599  -1.884000  -0.849427  -1.452270   0.488613   1.459576\n",
       "\n",
       "[1600 rows x 5 columns]"
      ]
     },
     "execution_count": 10,
     "metadata": {},
     "output_type": "execute_result"
    }
   ],
   "source": [
    "X"
   ]
  },
  {
   "cell_type": "code",
   "execution_count": null,
   "id": "9178a51c",
   "metadata": {},
   "outputs": [],
   "source": [
    "#Performing data visualization"
   ]
  },
  {
   "cell_type": "code",
   "execution_count": 22,
   "id": "ec1fed83",
   "metadata": {},
   "outputs": [
    {
     "data": {
      "text/plain": [
       "<matplotlib.collections.PathCollection at 0x29c3aca7cd0>"
      ]
     },
     "execution_count": 22,
     "metadata": {},
     "output_type": "execute_result"
    },
    {
     "data": {
      "image/png": "[encoded data removed]",
      "text/plain": [
       "<Figure size 640x480 with 1 Axes>"
      ]
     },
     "metadata": {},
     "output_type": "display_data"
    }
   ],
   "source": [
    "plt.xlabel('feature_1')\n",
    "plt.ylabel('Target')\n",
    "plt.scatter(X.iloc[:,1],Y)"
   ]
  },
  {
   "cell_type": "code",
   "execution_count": 23,
   "id": "6e60014b",
   "metadata": {},
   "outputs": [
    {
     "data": {
      "text/plain": [
       "feature_1    float64\n",
       "feature_2    float64\n",
       "feature_3    float64\n",
       "feature_4    float64\n",
       "feature_5    float64\n",
       "target       float64\n",
       "dtype: object"
      ]
     },
     "execution_count": 23,
     "metadata": {},
     "output_type": "execute_result"
    }
   ],
   "source": [
    "df.dtypes"
   ]
  },
  {
   "cell_type": "code",
   "execution_count": 24,
   "id": "363bb7b0",
   "metadata": {},
   "outputs": [
    {
     "name": "stdout",
     "output_type": "stream",
     "text": [
      "         feature_1    feature_2    feature_3    feature_4    feature_5  \\\n",
      "count  1600.000000  1600.000000  1600.000000  1600.000000  1600.000000   \n",
      "mean      0.004114    -0.027604    -0.044459    -0.042408     0.012005   \n",
      "std       0.997338     1.021776     1.011768     1.017189     0.978654   \n",
      "min      -3.380125    -3.314844    -3.153118    -3.250169    -2.851707   \n",
      "25%      -0.647165    -0.705030    -0.706385    -0.709504    -0.615880   \n",
      "50%      -0.000360    -0.043769    -0.041272    -0.029756    -0.013527   \n",
      "75%       0.682118     0.645442     0.639130     0.646290     0.650089   \n",
      "max       3.287205     3.438895     3.216176     2.985410     3.321770   \n",
      "\n",
      "            target  \n",
      "count  1600.000000  \n",
      "mean      0.318835  \n",
      "std     110.741562  \n",
      "min    -379.829794  \n",
      "25%     -71.897040  \n",
      "50%      -0.610665  \n",
      "75%      71.226603  \n",
      "max     337.643014  \n"
     ]
    }
   ],
   "source": [
    "print(df.describe())"
   ]
  },
  {
   "cell_type": "code",
   "execution_count": 25,
   "id": "2b2c2c03",
   "metadata": {},
   "outputs": [
    {
     "data": {
      "text/plain": [
       "(1600, 5)"
      ]
     },
     "execution_count": 25,
     "metadata": {},
     "output_type": "execute_result"
    }
   ],
   "source": [
    "X.shape"
   ]
  },
  {
   "cell_type": "code",
   "execution_count": 26,
   "id": "44695c7b",
   "metadata": {},
   "outputs": [
    {
     "data": {
      "text/plain": [
       "(1600,)"
      ]
     },
     "execution_count": 26,
     "metadata": {},
     "output_type": "execute_result"
    }
   ],
   "source": [
    "Y.shape"
   ]
  },
  {
   "cell_type": "code",
   "execution_count": 27,
   "id": "34082f75",
   "metadata": {},
   "outputs": [
    {
     "data": {
      "text/html": [
       "<div>\n",
       "<style scoped>\n",
       "    .dataframe tbody tr th:only-of-type {\n",
       "        vertical-align: middle;\n",
       "    }\n",
       "\n",
       "    .dataframe tbody tr th {\n",
       "        vertical-align: top;\n",
       "    }\n",
       "\n",
       "    .dataframe thead th {\n",
       "        text-align: right;\n",
       "    }\n",
       "</style>\n",
       "<table border=\"1\" class=\"dataframe\">\n",
       "  <thead>\n",
       "    <tr style=\"text-align: right;\">\n",
       "      <th></th>\n",
       "      <th>feature_1</th>\n",
       "      <th>feature_2</th>\n",
       "      <th>feature_3</th>\n",
       "      <th>feature_4</th>\n",
       "      <th>feature_5</th>\n",
       "    </tr>\n",
       "  </thead>\n",
       "  <tbody>\n",
       "    <tr>\n",
       "      <th>0</th>\n",
       "      <td>1.015254</td>\n",
       "      <td>2.076209</td>\n",
       "      <td>-0.266435</td>\n",
       "      <td>-2.418088</td>\n",
       "      <td>-0.980503</td>\n",
       "    </tr>\n",
       "    <tr>\n",
       "      <th>1</th>\n",
       "      <td>-0.375021</td>\n",
       "      <td>0.953185</td>\n",
       "      <td>0.626719</td>\n",
       "      <td>0.704406</td>\n",
       "      <td>-0.355489</td>\n",
       "    </tr>\n",
       "    <tr>\n",
       "      <th>2</th>\n",
       "      <td>-1.024452</td>\n",
       "      <td>0.962991</td>\n",
       "      <td>-0.407942</td>\n",
       "      <td>-1.861274</td>\n",
       "      <td>0.455201</td>\n",
       "    </tr>\n",
       "    <tr>\n",
       "      <th>3</th>\n",
       "      <td>-2.489841</td>\n",
       "      <td>0.544802</td>\n",
       "      <td>0.601219</td>\n",
       "      <td>-0.607021</td>\n",
       "      <td>-1.314286</td>\n",
       "    </tr>\n",
       "    <tr>\n",
       "      <th>4</th>\n",
       "      <td>-0.384675</td>\n",
       "      <td>-0.833624</td>\n",
       "      <td>1.358552</td>\n",
       "      <td>-0.547932</td>\n",
       "      <td>0.411925</td>\n",
       "    </tr>\n",
       "    <tr>\n",
       "      <th>...</th>\n",
       "      <td>...</td>\n",
       "      <td>...</td>\n",
       "      <td>...</td>\n",
       "      <td>...</td>\n",
       "      <td>...</td>\n",
       "    </tr>\n",
       "    <tr>\n",
       "      <th>395</th>\n",
       "      <td>-0.436959</td>\n",
       "      <td>-0.575844</td>\n",
       "      <td>-1.620908</td>\n",
       "      <td>-0.222588</td>\n",
       "      <td>1.086013</td>\n",
       "    </tr>\n",
       "    <tr>\n",
       "      <th>396</th>\n",
       "      <td>-0.421324</td>\n",
       "      <td>-2.417543</td>\n",
       "      <td>0.876275</td>\n",
       "      <td>0.844565</td>\n",
       "      <td>0.171646</td>\n",
       "    </tr>\n",
       "    <tr>\n",
       "      <th>397</th>\n",
       "      <td>0.554728</td>\n",
       "      <td>1.768243</td>\n",
       "      <td>-0.897787</td>\n",
       "      <td>-1.193661</td>\n",
       "      <td>0.340563</td>\n",
       "    </tr>\n",
       "    <tr>\n",
       "      <th>398</th>\n",
       "      <td>-1.627172</td>\n",
       "      <td>0.856471</td>\n",
       "      <td>-0.000566</td>\n",
       "      <td>0.629387</td>\n",
       "      <td>0.453382</td>\n",
       "    </tr>\n",
       "    <tr>\n",
       "      <th>399</th>\n",
       "      <td>0.139310</td>\n",
       "      <td>0.531597</td>\n",
       "      <td>-0.853107</td>\n",
       "      <td>0.031692</td>\n",
       "      <td>1.714893</td>\n",
       "    </tr>\n",
       "  </tbody>\n",
       "</table>\n",
       "<p>400 rows × 5 columns</p>\n",
       "</div>"
      ],
      "text/plain": [
       "     feature_1  feature_2  feature_3  feature_4  feature_5\n",
       "0     1.015254   2.076209  -0.266435  -2.418088  -0.980503\n",
       "1    -0.375021   0.953185   0.626719   0.704406  -0.355489\n",
       "2    -1.024452   0.962991  -0.407942  -1.861274   0.455201\n",
       "3    -2.489841   0.544802   0.601219  -0.607021  -1.314286\n",
       "4    -0.384675  -0.833624   1.358552  -0.547932   0.411925\n",
       "..         ...        ...        ...        ...        ...\n",
       "395  -0.436959  -0.575844  -1.620908  -0.222588   1.086013\n",
       "396  -0.421324  -2.417543   0.876275   0.844565   0.171646\n",
       "397   0.554728   1.768243  -0.897787  -1.193661   0.340563\n",
       "398  -1.627172   0.856471  -0.000566   0.629387   0.453382\n",
       "399   0.139310   0.531597  -0.853107   0.031692   1.714893\n",
       "\n",
       "[400 rows x 5 columns]"
      ]
     },
     "execution_count": 27,
     "metadata": {},
     "output_type": "execute_result"
    }
   ],
   "source": [
    "df1"
   ]
  },
  {
   "cell_type": "code",
   "execution_count": 31,
   "id": "564fb1ad",
   "metadata": {},
   "outputs": [],
   "source": [
    "df2=pd.read_csv(\"sample_submission.csv\")"
   ]
  },
  {
   "cell_type": "code",
   "execution_count": 32,
   "id": "f4b452a3",
   "metadata": {},
   "outputs": [
    {
     "data": {
      "text/html": [
       "<div>\n",
       "<style scoped>\n",
       "    .dataframe tbody tr th:only-of-type {\n",
       "        vertical-align: middle;\n",
       "    }\n",
       "\n",
       "    .dataframe tbody tr th {\n",
       "        vertical-align: top;\n",
       "    }\n",
       "\n",
       "    .dataframe thead th {\n",
       "        text-align: right;\n",
       "    }\n",
       "</style>\n",
       "<table border=\"1\" class=\"dataframe\">\n",
       "  <thead>\n",
       "    <tr style=\"text-align: right;\">\n",
       "      <th></th>\n",
       "      <th>Id</th>\n",
       "      <th>target</th>\n",
       "    </tr>\n",
       "  </thead>\n",
       "  <tbody>\n",
       "    <tr>\n",
       "      <th>0</th>\n",
       "      <td>0</td>\n",
       "      <td>0</td>\n",
       "    </tr>\n",
       "    <tr>\n",
       "      <th>1</th>\n",
       "      <td>1</td>\n",
       "      <td>1</td>\n",
       "    </tr>\n",
       "    <tr>\n",
       "      <th>2</th>\n",
       "      <td>2</td>\n",
       "      <td>2</td>\n",
       "    </tr>\n",
       "    <tr>\n",
       "      <th>3</th>\n",
       "      <td>3</td>\n",
       "      <td>3</td>\n",
       "    </tr>\n",
       "    <tr>\n",
       "      <th>4</th>\n",
       "      <td>4</td>\n",
       "      <td>4</td>\n",
       "    </tr>\n",
       "    <tr>\n",
       "      <th>...</th>\n",
       "      <td>...</td>\n",
       "      <td>...</td>\n",
       "    </tr>\n",
       "    <tr>\n",
       "      <th>395</th>\n",
       "      <td>395</td>\n",
       "      <td>395</td>\n",
       "    </tr>\n",
       "    <tr>\n",
       "      <th>396</th>\n",
       "      <td>396</td>\n",
       "      <td>396</td>\n",
       "    </tr>\n",
       "    <tr>\n",
       "      <th>397</th>\n",
       "      <td>397</td>\n",
       "      <td>397</td>\n",
       "    </tr>\n",
       "    <tr>\n",
       "      <th>398</th>\n",
       "      <td>398</td>\n",
       "      <td>398</td>\n",
       "    </tr>\n",
       "    <tr>\n",
       "      <th>399</th>\n",
       "      <td>399</td>\n",
       "      <td>399</td>\n",
       "    </tr>\n",
       "  </tbody>\n",
       "</table>\n",
       "<p>400 rows × 2 columns</p>\n",
       "</div>"
      ],
      "text/plain": [
       "      Id  target\n",
       "0      0       0\n",
       "1      1       1\n",
       "2      2       2\n",
       "3      3       3\n",
       "4      4       4\n",
       "..   ...     ...\n",
       "395  395     395\n",
       "396  396     396\n",
       "397  397     397\n",
       "398  398     398\n",
       "399  399     399\n",
       "\n",
       "[400 rows x 2 columns]"
      ]
     },
     "execution_count": 32,
     "metadata": {},
     "output_type": "execute_result"
    }
   ],
   "source": [
    "df2"
   ]
  },
  {
   "cell_type": "code",
   "execution_count": 34,
   "id": "10a0d60c",
   "metadata": {},
   "outputs": [],
   "source": [
    "x=df2.iloc[:,-1]"
   ]
  },
  {
   "cell_type": "code",
   "execution_count": 35,
   "id": "36bfc853",
   "metadata": {},
   "outputs": [
    {
     "data": {
      "text/plain": [
       "0        0\n",
       "1        1\n",
       "2        2\n",
       "3        3\n",
       "4        4\n",
       "      ... \n",
       "395    395\n",
       "396    396\n",
       "397    397\n",
       "398    398\n",
       "399    399\n",
       "Name: target, Length: 400, dtype: int64"
      ]
     },
     "execution_count": 35,
     "metadata": {},
     "output_type": "execute_result"
    }
   ],
   "source": [
    "x"
   ]
  },
  {
   "cell_type": "code",
   "execution_count": 36,
   "id": "a5af4f1a",
   "metadata": {},
   "outputs": [],
   "source": [
    "from sklearn.linear_model import LinearRegression"
   ]
  },
  {
   "cell_type": "code",
   "execution_count": 38,
   "id": "920e3897",
   "metadata": {},
   "outputs": [],
   "source": [
    "lr=LinearRegression()"
   ]
  },
  {
   "cell_type": "code",
   "execution_count": 44,
   "id": "287726f9",
   "metadata": {},
   "outputs": [],
   "source": [
    "X=df[['feature_1','feature_2','feature_3','feature_4','feature_5']]\n",
    "Y=df['target']"
   ]
  },
  {
   "cell_type": "code",
   "execution_count": 45,
   "id": "bacc14e0",
   "metadata": {},
   "outputs": [
    {
     "data": {
      "text/html": [
       "<style>#sk-container-id-2 {color: black;}#sk-container-id-2 pre{padding: 0;}#sk-container-id-2 div.sk-toggleable {background-color: white;}#sk-container-id-2 label.sk-toggleable__label {cursor: pointer;display: block;width: 100%;margin-bottom: 0;padding: 0.3em;box-sizing: border-box;text-align: center;}#sk-container-id-2 label.sk-toggleable__label-arrow:before {content: \"▸\";float: left;margin-right: 0.25em;color: #696969;}#sk-container-id-2 label.sk-toggleable__label-arrow:hover:before {color: black;}#sk-container-id-2 div.sk-estimator:hover label.sk-toggleable__label-arrow:before {color: black;}#sk-container-id-2 div.sk-toggleable__content {max-height: 0;max-width: 0;overflow: hidden;text-align: left;background-color: #f0f8ff;}#sk-container-id-2 div.sk-toggleable__content pre {margin: 0.2em;color: black;border-radius: 0.25em;background-color: #f0f8ff;}#sk-container-id-2 input.sk-toggleable__control:checked~div.sk-toggleable__content {max-height: 200px;max-width: 100%;overflow: auto;}#sk-container-id-2 input.sk-toggleable__control:checked~label.sk-toggleable__label-arrow:before {content: \"▾\";}#sk-container-id-2 div.sk-estimator input.sk-toggleable__control:checked~label.sk-toggleable__label {background-color: #d4ebff;}#sk-container-id-2 div.sk-label input.sk-toggleable__control:checked~label.sk-toggleable__label {background-color: #d4ebff;}#sk-container-id-2 input.sk-hidden--visually {border: 0;clip: rect(1px 1px 1px 1px);clip: rect(1px, 1px, 1px, 1px);height: 1px;margin: -1px;overflow: hidden;padding: 0;position: absolute;width: 1px;}#sk-container-id-2 div.sk-estimator {font-family: monospace;background-color: #f0f8ff;border: 1px dotted black;border-radius: 0.25em;box-sizing: border-box;margin-bottom: 0.5em;}#sk-container-id-2 div.sk-estimator:hover {background-color: #d4ebff;}#sk-container-id-2 div.sk-parallel-item::after {content: \"\";width: 100%;border-bottom: 1px solid gray;flex-grow: 1;}#sk-container-id-2 div.sk-label:hover label.sk-toggleable__label {background-color: #d4ebff;}#sk-container-id-2 div.sk-serial::before {content: \"\";position: absolute;border-left: 1px solid gray;box-sizing: border-box;top: 0;bottom: 0;left: 50%;z-index: 0;}#sk-container-id-2 div.sk-serial {display: flex;flex-direction: column;align-items: center;background-color: white;padding-right: 0.2em;padding-left: 0.2em;position: relative;}#sk-container-id-2 div.sk-item {position: relative;z-index: 1;}#sk-container-id-2 div.sk-parallel {display: flex;align-items: stretch;justify-content: center;background-color: white;position: relative;}#sk-container-id-2 div.sk-item::before, #sk-container-id-2 div.sk-parallel-item::before {content: \"\";position: absolute;border-left: 1px solid gray;box-sizing: border-box;top: 0;bottom: 0;left: 50%;z-index: -1;}#sk-container-id-2 div.sk-parallel-item {display: flex;flex-direction: column;z-index: 1;position: relative;background-color: white;}#sk-container-id-2 div.sk-parallel-item:first-child::after {align-self: flex-end;width: 50%;}#sk-container-id-2 div.sk-parallel-item:last-child::after {align-self: flex-start;width: 50%;}#sk-container-id-2 div.sk-parallel-item:only-child::after {width: 0;}#sk-container-id-2 div.sk-dashed-wrapped {border: 1px dashed gray;margin: 0 0.4em 0.5em 0.4em;box-sizing: border-box;padding-bottom: 0.4em;background-color: white;}#sk-container-id-2 div.sk-label label {font-family: monospace;font-weight: bold;display: inline-block;line-height: 1.2em;}#sk-container-id-2 div.sk-label-container {text-align: center;}#sk-container-id-2 div.sk-container {/* jupyter's `normalize.less` sets `[hidden] { display: none; }` but bootstrap.min.css set `[hidden] { display: none !important; }` so we also need the `!important` here to be able to override the default hidden behavior on the sphinx rendered scikit-learn.org. See: https://github.com/scikit-learn/scikit-learn/issues/21755 */display: inline-block !important;position: relative;}#sk-container-id-2 div.sk-text-repr-fallback {display: none;}</style><div id=\"sk-container-id-2\" class=\"sk-top-container\"><div class=\"sk-text-repr-fallback\"><pre>LinearRegression()</pre><b>In a Jupyter environment, please rerun this cell to show the HTML representation or trust the notebook. <br />On GitHub, the HTML representation is unable to render, please try loading this page with nbviewer.org.</b></div><div class=\"sk-container\" hidden><div class=\"sk-item\"><div class=\"sk-estimator sk-toggleable\"><input class=\"sk-toggleable__control sk-hidden--visually\" id=\"sk-estimator-id-2\" type=\"checkbox\" checked><label for=\"sk-estimator-id-2\" class=\"sk-toggleable__label sk-toggleable__label-arrow\">LinearRegression</label><div class=\"sk-toggleable__content\"><pre>LinearRegression()</pre></div></div></div></div></div>"
      ],
      "text/plain": [
       "LinearRegression()"
      ]
     },
     "execution_count": 45,
     "metadata": {},
     "output_type": "execute_result"
    }
   ],
   "source": [
    "lr.fit(X,Y)"
   ]
  },
  {
   "cell_type": "code",
   "execution_count": 46,
   "id": "4534040a",
   "metadata": {},
   "outputs": [],
   "source": [
    "y=lr.predict(df1)"
   ]
  },
  {
   "cell_type": "code",
   "execution_count": 47,
   "id": "e864c2fa",
   "metadata": {},
   "outputs": [
    {
     "data": {
      "text/plain": [
       "array([ 1.14583689e+02,  1.18012815e+02, -2.17398523e+01, -4.39368985e+01,\n",
       "       -9.59148984e+01, -4.45074240e+01, -7.55665260e+01,  2.38208355e+01,\n",
       "        1.73835284e+02,  1.72849290e+02, -1.05402312e+02, -2.08020234e+01,\n",
       "       -3.91323777e+00,  1.22999186e+02,  4.03078842e+01,  4.57128495e+01,\n",
       "       -1.89628491e+02,  2.26125454e+01,  1.16410473e+01,  1.36342143e+02,\n",
       "        6.49162552e+01, -6.19884884e+01, -1.08194679e+02, -7.41212747e+00,\n",
       "       -5.85239528e+01,  1.18889777e+01,  2.92376400e+01,  1.07687579e+02,\n",
       "        2.41468563e+01, -2.61050120e+01,  1.10968076e+02, -4.48797096e+01,\n",
       "        2.16799939e+02, -1.38606052e+01, -2.28603182e+02,  1.54896021e+02,\n",
       "       -2.22583390e+00,  1.27230344e+01, -3.08307877e+02,  7.71107583e+01,\n",
       "       -8.12079177e+01, -2.06632925e+02, -2.38762881e+02,  1.34757365e+02,\n",
       "       -7.37514777e+01,  1.05463702e+02, -3.59074927e+00,  2.06043839e+01,\n",
       "       -9.80187354e+01, -2.75169049e+01,  1.08159001e+01, -1.74463534e+02,\n",
       "        6.51557518e+01, -9.78063844e+01, -1.06151855e+02, -1.55942178e+02,\n",
       "        6.25361032e+01,  1.08628991e+02, -7.46103422e+01,  4.17396380e+01,\n",
       "        4.12242983e+01, -5.08043007e+01,  1.64887262e+02,  4.35635985e+01,\n",
       "        5.69371401e+01,  2.41211334e+01,  8.16773838e+01, -1.80304316e+00,\n",
       "       -3.09735011e+00,  1.80977272e+00, -2.39397288e+01,  1.61874720e+02,\n",
       "       -4.10129899e+01,  2.15560701e+01, -6.64305442e+01, -6.92710146e+01,\n",
       "        3.69986169e+01, -1.60490354e+02, -1.76152673e+00,  1.51309319e+02,\n",
       "       -3.80218327e+01, -1.20320688e+02, -1.94436345e+02,  3.64493852e+01,\n",
       "        1.46425717e+02,  2.71429735e+02, -2.56998804e+02, -8.85512683e+01,\n",
       "        7.62607756e+01, -8.99426453e+01, -4.94099238e+01,  1.25588303e+02,\n",
       "       -1.63891147e+02, -1.16823341e+02,  4.87104404e+01,  9.81684061e+01,\n",
       "       -2.15581459e+02, -1.21288951e+02, -1.72346819e+02, -5.12594130e+01,\n",
       "        1.27991975e+02, -8.38947004e+01, -3.93355710e+00, -1.45819362e+00,\n",
       "        6.87157159e-02,  8.07263279e+01,  4.45095525e+01,  9.24525606e+01,\n",
       "       -3.02937078e+01, -8.41409462e+01,  3.86056584e+01,  1.82850652e+01,\n",
       "        1.17401859e+02,  7.70873241e+00,  7.35667699e+01,  3.27250659e+01,\n",
       "       -1.42403921e+02,  7.21277669e+00,  2.10140289e+01, -2.27889032e+01,\n",
       "       -2.11981550e+01, -2.55771207e+02,  2.67437280e+02,  1.55039195e+02,\n",
       "        1.43417317e+01,  8.35124515e+01, -1.21442232e+01, -1.53097324e+02,\n",
       "        1.12393595e+02, -3.20459035e+01, -2.16024763e+02,  1.21057697e+02,\n",
       "       -2.98930911e+01, -8.68348066e+01,  1.70724468e+02,  3.91922861e+01,\n",
       "       -1.93300026e+01,  6.17641657e+01,  4.60812147e+01, -1.75029471e+02,\n",
       "        1.30155609e+02, -7.28071887e+01,  2.12090398e+02,  1.35346245e+02,\n",
       "        2.30097434e-01, -1.53844667e+02, -1.48709586e+01,  1.33660081e+02,\n",
       "        3.59628027e+01,  5.77045854e+01, -4.36552160e+00, -4.31110458e+01,\n",
       "        1.77217405e+01, -6.97051989e+01,  2.85463704e+01,  1.41994072e+02,\n",
       "        3.46823799e+02,  2.16924179e+02,  2.78162767e+01, -3.77390624e+01,\n",
       "       -1.71397275e+02,  1.28961678e+01,  2.98607728e+02,  7.56384285e+01,\n",
       "       -2.21090992e+01,  1.55678418e+02, -1.55694869e+02,  1.41408003e+02,\n",
       "        1.71079952e+02, -4.69490852e+01,  6.55777840e+01,  9.72533920e+01,\n",
       "        9.49267603e+01,  3.18715034e+01,  1.74337052e+02, -1.51155108e+02,\n",
       "       -9.43342846e+01, -1.69777111e+02, -1.82969143e+01, -1.07277796e+02,\n",
       "       -1.41266108e+01, -5.88120172e+01, -7.50832380e+01,  6.73587271e+01,\n",
       "       -6.89703478e+01,  8.88318631e+01, -5.70948342e+01, -1.09741255e+02,\n",
       "       -7.77833544e+01,  1.85629304e+02, -4.14282206e+01,  2.19635522e+02,\n",
       "       -5.66172847e+01, -8.36222525e+01,  4.73238005e+01,  6.26076531e-01,\n",
       "        7.13821511e+01, -6.06639903e+01,  2.09659127e+02, -1.38637055e+02,\n",
       "       -9.68478030e+01, -1.15583978e+02,  2.49654102e+01,  5.42952400e+01,\n",
       "        1.50502762e+02,  4.68983224e+01,  9.19854966e+01,  1.73013101e+02,\n",
       "       -2.70553209e+02, -1.73857397e+02, -1.05304177e+02, -8.25142264e+01,\n",
       "        2.90802473e+01, -5.03321805e+01,  7.80970160e+01, -2.01979151e+01,\n",
       "       -5.22163204e+01, -2.86307739e+01,  6.56560573e+01,  9.17307327e+01,\n",
       "       -8.26675481e+01, -1.48460926e+02,  4.86777092e+01,  2.38567646e+02,\n",
       "       -4.86998996e+01,  1.57631321e+01, -6.19899690e+01,  1.31485707e+01,\n",
       "        1.00289512e+01,  3.99646084e+01,  1.15958615e+02,  1.86669503e+01,\n",
       "       -1.07329942e+02,  4.67695594e+01,  1.00039959e+02, -8.87533938e+01,\n",
       "       -1.74694218e+02,  1.69478147e+02,  1.09352799e+02,  6.20899161e+01,\n",
       "       -8.54397834e+00, -2.48564441e+01, -4.77166394e+01, -1.71011355e+02,\n",
       "       -6.50008843e+01, -2.77481804e+01, -1.71402598e+02, -2.82093276e+01,\n",
       "        3.43188175e+01, -1.21610783e+02,  1.74264374e+01, -7.73081929e-01,\n",
       "       -2.54182308e+02, -2.53529253e+02, -1.65878766e+02,  4.67111041e+01,\n",
       "        1.31612022e+02,  7.07816400e+01,  1.19875914e+02,  9.38430102e+01,\n",
       "        2.21288003e+01, -3.06145032e+02,  1.87134675e+02, -1.30086933e+02,\n",
       "       -4.39017442e+01, -8.48294430e+01, -8.75139738e+01,  1.37064206e+02,\n",
       "        1.62663114e+02, -4.04306781e+01, -1.42315693e+02,  1.13295414e+02,\n",
       "       -1.98162283e+01,  8.81663869e+01,  1.05992718e+02,  2.53000074e+01,\n",
       "       -5.08837521e+01, -2.69524817e+01,  3.01092851e+01,  7.38938849e+01,\n",
       "        2.83608166e+01, -1.28416330e+02, -1.52776301e+01, -1.10374437e+01,\n",
       "       -1.26794785e+02,  1.62120112e+02, -1.00838833e+01, -1.33336316e+02,\n",
       "        2.06450695e+02,  4.88376450e+01,  9.32013696e+01,  3.13905901e+01,\n",
       "        2.07038229e+02, -3.89970195e+01, -3.07289410e+01, -4.01751698e+01,\n",
       "        5.23598108e+01, -6.24040563e+01,  9.36382324e+01, -8.42914985e+01,\n",
       "       -9.55313843e+01, -2.43804958e+01, -8.98079279e+01, -2.31749011e+01,\n",
       "        5.96648383e+01, -3.24313782e+01, -7.40946220e+01, -1.79732441e+02,\n",
       "       -1.63685038e+02,  4.11883520e+01,  8.02784922e+01,  3.01577804e+02,\n",
       "        1.28554327e+02,  1.30832988e+02,  5.25149254e+01, -2.12873997e+01,\n",
       "        1.83267572e+02, -5.88757862e+01,  1.29469597e+02,  1.52655487e+02,\n",
       "       -3.33223694e+01, -2.02138568e+02, -9.88606794e+01,  4.34312192e+00,\n",
       "       -4.48044373e+01, -3.78196288e+01,  1.57823714e+02,  1.34014627e+02,\n",
       "        2.50245556e+01, -8.84390602e+01,  1.87246379e+02, -6.54536233e+01,\n",
       "        6.55402344e+01,  8.03561819e+01,  9.88057301e+01, -1.05254566e+02,\n",
       "        1.14404232e+02, -3.49199136e+01,  8.86094632e+01, -8.33695266e+01,\n",
       "       -2.02231114e+02,  1.58221478e+02, -9.31481791e+01,  6.59816387e+01,\n",
       "        1.25513068e+02,  3.07073555e+01, -1.75221035e+02, -3.37049758e+01,\n",
       "       -4.79594491e+01, -1.17026015e+02,  1.22681657e+01, -8.81417151e+01,\n",
       "       -3.89840106e+01, -1.63414696e+02, -2.18465652e+02,  5.51305633e+00,\n",
       "       -2.05947839e+02,  1.85721065e+02, -9.25001204e+00,  1.80720271e+01,\n",
       "        3.27977960e+01,  2.41092423e+02, -2.73852965e+01,  1.34032356e+02,\n",
       "        5.73968795e+01,  1.05388596e+01, -8.65082599e+01, -9.65674714e+00,\n",
       "        2.23430526e+02, -1.47055341e+01, -1.37921702e+02, -5.05147716e+01,\n",
       "       -9.36793798e+01,  8.81628163e+00, -1.46040269e+01, -6.28519967e+01,\n",
       "       -1.64655543e+01, -1.72962640e+02, -1.22791775e+02,  4.52738982e+01,\n",
       "       -3.73099314e+01, -1.57438494e+02,  8.74983858e+01, -3.20726424e-01,\n",
       "        1.33257842e+02, -4.71722088e+01,  2.57466116e+00,  1.74227519e+02,\n",
       "        1.70930081e+02,  4.64333575e+01, -2.67206510e+01,  5.96322523e+01,\n",
       "        1.11659113e+02, -3.65027668e+01, -6.91390527e+01, -8.19890004e+01,\n",
       "       -1.86032535e+02,  1.25292336e+02,  6.53698407e+01,  5.70596907e+01])"
      ]
     },
     "execution_count": 47,
     "metadata": {},
     "output_type": "execute_result"
    }
   ],
   "source": [
    "y"
   ]
  },
  {
   "cell_type": "code",
   "execution_count": 48,
   "id": "dc846f78",
   "metadata": {},
   "outputs": [
    {
     "data": {
      "text/plain": [
       "0        0\n",
       "1        1\n",
       "2        2\n",
       "3        3\n",
       "4        4\n",
       "      ... \n",
       "395    395\n",
       "396    396\n",
       "397    397\n",
       "398    398\n",
       "399    399\n",
       "Name: target, Length: 400, dtype: int64"
      ]
     },
     "execution_count": 48,
     "metadata": {},
     "output_type": "execute_result"
    }
   ],
   "source": [
    "x"
   ]
  },
  {
   "cell_type": "code",
   "execution_count": 49,
   "id": "4b350661",
   "metadata": {},
   "outputs": [
    {
     "data": {
      "text/plain": [
       "<matplotlib.collections.PathCollection at 0x29c3b5a8e50>"
      ]
     },
     "execution_count": 49,
     "metadata": {},
     "output_type": "execute_result"
    },
    {
     "data": {
      "image/png": "[encoded data removed]",
      "text/plain": [
       "<Figure size 640x480 with 1 Axes>"
      ]
     },
     "metadata": {},
     "output_type": "display_data"
    }
   ],
   "source": [
    "plt.scatter(x,y)"
   ]
  },
  {
   "cell_type": "markdown",
   "id": "83617012",
   "metadata": {},
   "source": [
    "# vectorizaion"
   ]
  },
  {
   "cell_type": "raw",
   "id": "5684a70a",
   "metadata": {},
   "source": [
    "# An efficent implementation for linear regression using vectorization Avoid loop in the implemenatation excet gradient descent we do not use main loop"
   ]
  },
  {
   "cell_type": "code",
   "execution_count": 50,
   "id": "2d2cacfb",
   "metadata": {},
   "outputs": [],
   "source": [
    "# importing the libraries required to implement the function\n",
    "import pandas as pd\n",
    "import matplotlib.pyplot as plt\n",
    "import numpy as np\n",
    "import seaborn as sns"
   ]
  },
  {
   "cell_type": "code",
   "execution_count": 51,
   "id": "f62e8693",
   "metadata": {},
   "outputs": [],
   "source": [
    "def hypothesis(X,theta):\n",
    "    return np.dot(X,theta)\n",
    "def error(X,y,theta):\n",
    "    m=X.shape[0]\n",
    "    y_=hypothesis(X,theta)\n",
    "    e=np.sum((y-y_)**2)\n",
    "    return e/m\n",
    "def gradient(X,y,theta):\n",
    "    y_=hypothesis(X,theta)\n",
    "    grad=np.dot(X.T,(y-y_))\n",
    "    m=X.shape[0]\n",
    "    \n",
    "    return grad/m\n",
    "def gradient_descent(X, y, learning_rate=0.1, max_iters=300):\n",
    "    n = X.shape[1]  # Number of features\n",
    "    theta = np.zeros((n,))\n",
    "    error_list = []\n",
    "    \n",
    "    for i in range(max_iters):\n",
    "        grad = gradient(X, y, theta)\n",
    "        theta = theta - learning_rate * grad\n",
    "        \n",
    "        # Compute and append error\n",
    "        err = error(X, y, theta)\n",
    "        error_list.append(err)\n",
    "        \n",
    "    return error_list, theta"
   ]
  },
  {
   "cell_type": "code",
   "execution_count": 52,
   "id": "bd177869",
   "metadata": {},
   "outputs": [],
   "source": [
    "error_list,theta=gradient_descent(X,Y)"
   ]
  },
  {
   "cell_type": "code",
   "execution_count": 53,
   "id": "cb493185",
   "metadata": {},
   "outputs": [
    {
     "data": {
      "text/plain": [
       "[14818.10530511717,\n",
       " 17937.48631271944,\n",
       " 21735.952716561704,\n",
       " 26361.832272286712,\n",
       " 31995.95586334508,\n",
       " 38858.80237411918,\n",
       " 47219.21896655127,\n",
       " 57405.06515989153,\n",
       " 69816.20638340067,\n",
       " 84940.3771272661,\n",
       " 103372.54928996012,\n",
       " 125838.58249996735,\n",
       " 153224.105814305,\n",
       " 186609.7912877208,\n",
       " 227314.4380591987,\n",
       " 276947.6013357644,\n",
       " 337473.88684410957,\n",
       " 411291.5037315237,\n",
       " 501328.2468277265,\n",
       " 611158.786257391,\n",
       " 745148.0075525172,\n",
       " 908626.20408512,\n",
       " 1108103.2192148075,\n",
       " 1351530.2211664713,\n",
       " 1648619.7344139551,\n",
       " 2011236.9269827516,\n",
       " 2453878.0612793867,\n",
       " 2994255.576479837,\n",
       " 3654013.6297907685,\n",
       " 4459603.261700382,\n",
       " 5443352.886823762,\n",
       " 6644777.8169318605,\n",
       " 8112182.326911738,\n",
       " 9904619.783044143,\n",
       " 12094291.062913645,\n",
       " 14769479.516505208,\n",
       " 18038142.79520995,\n",
       " 22032308.924941227,\n",
       " 26913457.143707853,\n",
       " 32879104.639037468,\n",
       " 40170870.09423954,\n",
       " 49084345.9543187,\n",
       " 59981186.0907432,\n",
       " 73303907.1925974,\n",
       " 89594014.55878095,\n",
       " 109514200.6964447,\n",
       " 133875533.99168709,\n",
       " 163670761.76027814,\n",
       " 200115105.85941535,\n",
       " 244696240.36057213,\n",
       " 299235522.5730462,\n",
       " 365963016.95119584,\n",
       " 447609425.7309198,\n",
       " 547518744.5968169,\n",
       " 669786325.8288907,\n",
       " 819428091.4859171,\n",
       " 1002587939.7733397,\n",
       " 1226791983.471879,\n",
       " 1501260217.2676237,\n",
       " 1837288613.4055548,\n",
       " 2248717593.4342437,\n",
       " 2752506442.1183143,\n",
       " 3369437670.377511,\n",
       " 4124980784.653481,\n",
       " 5050351610.412957,\n",
       " 6183811530.05257,\n",
       " 7572261077.229606,\n",
       " 9273194706.76558,\n",
       " 11357098755.233496,\n",
       " 13910393265.196672,\n",
       " 17039041255.79794,\n",
       " 20872977154.532272,\n",
       " 25571540651.978573,\n",
       " 31330144668.093437,\n",
       " 38388458225.57272,\n",
       " 47040449024.832985,\n",
       " 57646709124.66568,\n",
       " 70649583693.14969,\n",
       " 86591741410.4504,\n",
       " 106138970824.45879,\n",
       " 130108165983.53029,\n",
       " 159501684620.68005,\n",
       " 195549532410.44843,\n",
       " 239761158881.39673,\n",
       " 293989058603.21857,\n",
       " 360506872684.8691,\n",
       " 442105301819.61694,\n",
       " 542209899406.1475,\n",
       " 665025744012.6979,\n",
       " 815715134411.7358,\n",
       " 1000615856508.2823,\n",
       " 1227509299862.3591,\n",
       " 1505949826129.669,\n",
       " 1847669403574.8013,\n",
       " 2267074732713.9077,\n",
       " 2781858035700.845,\n",
       " 3413747535498.2236,\n",
       " 4189429618304.5737,\n",
       " 5141682010148.347,\n",
       " 6310766320915.807,\n",
       " 7746139403725.933,\n",
       " 9508556621032.521,\n",
       " 11672656887354.16,\n",
       " 14330139993320.275,\n",
       " 17593672094081.71,\n",
       " 21601686458753.99,\n",
       " 26524284969632.89,\n",
       " 32570493083139.855,\n",
       " 39997179052405.24,\n",
       " 49120019666422.15,\n",
       " 60326982662054.21,\n",
       " 74094904102148.8,\n",
       " 91009872048802.86,\n",
       " 111792291534310.94,\n",
       " 137327707206348.12,\n",
       " 168704707791073.7,\n",
       " 207261541376749.0,\n",
       " 254643445639279.9,\n",
       " 312873158717910.25,\n",
       " 384437644454552.0,\n",
       " 472394764691528.2,\n",
       " 580504491509375.4,\n",
       " 713390310891402.8,\n",
       " 876737772134949.0,\n",
       " 1077538740786058.5,\n",
       " 1324391886383113.0,\n",
       " 1627872365331787.2,\n",
       " 2000986649034092.5,\n",
       " 2459732127524398.5,\n",
       " 3023785648851732.5,\n",
       " 3717350730709931.5,\n",
       " 4570200045206550.0,\n",
       " 5618958227976141.0,\n",
       " 6908680465780549.0,\n",
       " 8494795123844989.0,\n",
       " 1.0445494441497718e+16,\n",
       " 1.2844676736952566e+16,\n",
       " 1.579556746253922e+16,\n",
       " 1.942517587880421e+16,\n",
       " 2.3889780348573584e+16,\n",
       " 2.9381679865329576e+16,\n",
       " 3.613750436391654e+16,\n",
       " 4.444844400475916e+16,\n",
       " 5.467284091797421e+16,\n",
       " 6.7251689465210856e+16,\n",
       " 8.272771738871162e+16,\n",
       " 1.0176887576729544e+17,\n",
       " 1.2519725726031067e+17,\n",
       " 1.5402469803537827e+17,\n",
       " 1.8949660931997238e+17,\n",
       " 2.3314594234880672e+17,\n",
       " 2.868596311916388e+17,\n",
       " 3.529604007480624e+17,\n",
       " 4.3430749575010797e+17,\n",
       " 5.3442071007083546e+17,\n",
       " 6.576331099096991e+17,\n",
       " 8.092790937556765e+17,\n",
       " 9.959259709229938e+17,\n",
       " 1.2256591360635622e+18,\n",
       " 1.5084332521179807e+18,\n",
       " 1.8565047306044365e+18,\n",
       " 2.2849643415487526e+18,\n",
       " 2.812393150463605e+18,\n",
       " 3.4616703572410307e+18,\n",
       " 4.260968236536472e+18,\n",
       " 5.244977540636182e+18,\n",
       " 6.456416780554609e+18,\n",
       " 7.947891188656169e+18,\n",
       " 9.784182427934329e+18,\n",
       " 1.2045068916460513e+19,\n",
       " 1.4828799802655447e+19,\n",
       " 1.8256374171131036e+19,\n",
       " 2.2476812228448248e+19,\n",
       " 2.7673648551825465e+19,\n",
       " 3.407293087765102e+19,\n",
       " 4.195307369716653e+19,\n",
       " 5.165699699337549e+19,\n",
       " 6.360708034469194e+19,\n",
       " 7.83235857103367e+19,\n",
       " 9.64473538896508e+19,\n",
       " 1.1876776655464738e+20,\n",
       " 1.4625719607851916e+20,\n",
       " 1.8011344921166388e+20,\n",
       " 2.2181206042573524e+20,\n",
       " 2.731707217808221e+20,\n",
       " 3.3642866735987733e+20,\n",
       " 4.1434448493869734e+20,\n",
       " 5.1031663431336034e+20,\n",
       " 6.285319459570758e+20,\n",
       " 7.741485990169097e+20,\n",
       " 9.535215878182729e+20,\n",
       " 1.1744805472489952e+21,\n",
       " 1.446672101277633e+21,\n",
       " 1.7819817260437943e+21,\n",
       " 2.1950536034708313e+21,\n",
       " 2.7039312360769234e+21,\n",
       " 3.3308468870525165e+21,\n",
       " 4.1031944340308933e+21,\n",
       " 5.054728266657202e+21,\n",
       " 6.22704077004557e+21,\n",
       " 7.671383153632357e+21,\n",
       " 9.450909444177991e+21,\n",
       " 1.1643442023967318e+22,\n",
       " 1.434487997573301e+22,\n",
       " 1.7673399699327525e+22,\n",
       " 2.1774632030441e+22,\n",
       " 2.6828042945804928e+22,\n",
       " 3.3054797764926588e+22,\n",
       " 4.072745387633021e+22,\n",
       " 5.0181907287726105e+22,\n",
       " 6.183211725182865e+22,\n",
       " 7.618825520132094e+22,\n",
       " 9.387907459889729e+22,\n",
       " 1.1567948368095541e+23,\n",
       " 1.4254453159504915e+23,\n",
       " 1.7565130014796348e+23,\n",
       " 2.1645054067919362e+23,\n",
       " 2.6673032372428228e+23,\n",
       " 3.286944969610713e+23,\n",
       " 4.050593976517529e+23,\n",
       " 4.9917306802366324e+23,\n",
       " 6.15162211057355e+23,\n",
       " 7.581133434763817e+23,\n",
       " 9.342961059986826e+23,\n",
       " 1.1514385442495676e+24,\n",
       " 1.4190664586935907e+24,\n",
       " 1.7489217390572498e+24,\n",
       " 2.1554780719511e+24,\n",
       " 2.6565766926063924e+24,\n",
       " 3.2742101312796355e+24,\n",
       " 4.0354884143243054e+24,\n",
       " 4.97383020570628e+24,\n",
       " 6.130431270140415e+24,\n",
       " 7.556074839671836e+24,\n",
       " 9.313363508557696e+24,\n",
       " 1.1479470829045319e+25,\n",
       " 1.4149533649773205e+25,\n",
       " 1.7440834436065836e+25,\n",
       " 2.1497957579086068e+25,\n",
       " 2.6499146569810125e+25,\n",
       " 3.266414177215485e+25,\n",
       " 4.026384370546816e+25,\n",
       " 4.96322271108433e+25,\n",
       " 6.118103016840971e+25,\n",
       " 7.541786541921271e+25,\n",
       " 9.296854960850419e+25,\n",
       " 1.1460463544514151e+26,\n",
       " 1.4127735734979203e+26,\n",
       " 1.7415948573660044e+26,\n",
       " 2.1469693268610814e+26,\n",
       " 2.6467238137086353e+26,\n",
       " 3.2628374121755516e+26,\n",
       " 4.022408838723296e+26,\n",
       " 4.9588492036357564e+26,\n",
       " 6.113352729251728e+26,\n",
       " 7.536710195265614e+26,\n",
       " 9.291544992351489e+26,\n",
       " 1.1455070286809982e+27,\n",
       " 1.4122488761970882e+27,\n",
       " 1.7411184719093293e+27,\n",
       " 2.1465893239979152e+27,\n",
       " 2.6465074175116345e+27,\n",
       " 3.2628771823644694e+27,\n",
       " 4.022830665638793e+27,\n",
       " 4.959822618835762e+27,\n",
       " 6.115104169379026e+27,\n",
       " 7.539540026686184e+27,\n",
       " 9.295849318109051e+27,\n",
       " 1.146136882698474e+28,\n",
       " 1.4131460437722743e+28,\n",
       " 1.7423712997229058e+28,\n",
       " 2.1483123830978036e+28,\n",
       " 2.648848835090778e+28,\n",
       " 3.26602794667275e+28,\n",
       " 4.027036421244381e+28,\n",
       " 4.965398602448892e+28,\n",
       " 6.12245410315301e+28,\n",
       " 7.54917999476055e+28,\n",
       " 9.308437913698943e+28,\n",
       " 1.147774518470254e+29,\n",
       " 1.415269217545221e+29,\n",
       " 1.745115660422506e+29,\n",
       " 2.1518500679455094e+29,\n",
       " 2.6533980309018407e+29,\n",
       " 3.271864909116036e+29,\n",
       " 4.034510574828635e+29,\n",
       " 4.974951500002807e+29,\n",
       " 6.134643218293512e+29,\n",
       " 7.564708563836058e+29,\n",
       " 9.32819234682937e+29,\n",
       " 1.1502841943598367e+30,\n",
       " 1.4184536487076515e+30,\n",
       " 1.7491515966951693e+30,\n",
       " 2.156959685064214e+30,\n",
       " 2.6598604375265896e+30,\n",
       " 3.2800305358982983e+30,\n",
       " 4.044819160824475e+30,\n",
       " 4.987954567957201e+30,\n",
       " 6.151032149689012e+30,\n",
       " 7.585349657623559e+30]"
      ]
     },
     "execution_count": 53,
     "metadata": {},
     "output_type": "execute_result"
    }
   ],
   "source": [
    "error_list"
   ]
  },
  {
   "cell_type": "code",
   "execution_count": 54,
   "id": "05c315d7",
   "metadata": {},
   "outputs": [
    {
     "data": {
      "text/plain": [
       "array([-3.08137756e+14, -1.86458776e+15,  1.68506207e+15, -8.74851733e+13,\n",
       "       -6.68848916e+14])"
      ]
     },
     "execution_count": 54,
     "metadata": {},
     "output_type": "execute_result"
    }
   ],
   "source": [
    "theta"
   ]
  },
  {
   "cell_type": "code",
   "execution_count": 55,
   "id": "27c93aa9",
   "metadata": {},
   "outputs": [],
   "source": [
    "y_=hypothesis(X,theta)"
   ]
  },
  {
   "cell_type": "code",
   "execution_count": 56,
   "id": "947eca16",
   "metadata": {},
   "outputs": [
    {
     "data": {
      "text/plain": [
       "array([ 5.75972144e+14, -1.00560018e+15, -5.05366840e+14, ...,\n",
       "        4.13843981e+15,  3.13280714e+15, -1.30178417e+15])"
      ]
     },
     "execution_count": 56,
     "metadata": {},
     "output_type": "execute_result"
    }
   ],
   "source": [
    "y_"
   ]
  },
  {
   "cell_type": "code",
   "execution_count": null,
   "id": "a261894a",
   "metadata": {},
   "outputs": [],
   "source": []
  },
  {
   "cell_type": "code",
   "execution_count": 58,
   "id": "927657f6",
   "metadata": {},
   "outputs": [
    {
     "data": {
      "text/plain": [
       "<matplotlib.collections.PathCollection at 0x29c3c7edc10>"
      ]
     },
     "execution_count": 58,
     "metadata": {},
     "output_type": "execute_result"
    },
    {
     "data": {
      "image/png": "[encoded data removed]",
      "text/plain": [
       "<Figure size 640x480 with 1 Axes>"
      ]
     },
     "metadata": {},
     "output_type": "display_data"
    }
   ],
   "source": [
    "plt.scatter(y_,Y)"
   ]
  },
  {
   "cell_type": "code",
   "execution_count": null,
   "id": "91092a1d",
   "metadata": {},
   "outputs": [],
   "source": [
    "  # hence you can see from the graph decrease in the actual and the predicted"
   ]
  }
 ],
 "metadata": {
  "kernelspec": {
   "display_name": "Python 3 (ipykernel)",
   "language": "python",
   "name": "python3"
  },
  "language_info": {
   "codemirror_mode": {
    "name": "ipython",
    "version": 3
   },
   "file_extension": ".py",
   "mimetype": "text/x-python",
   "name": "python",
   "nbconvert_exporter": "python",
   "pygments_lexer": "ipython3",
   "version": "3.11.5"
  }
 },
 "nbformat": 4,
 "nbformat_minor": 5
}
